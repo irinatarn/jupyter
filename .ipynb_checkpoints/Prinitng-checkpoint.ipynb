{
 "cells": [
  {
   "cell_type": "code",
   "execution_count": 1,
   "metadata": {},
   "outputs": [
    {
     "name": "stdout",
     "output_type": "stream",
     "text": [
      "I love ice cream\n"
     ]
    }
   ],
   "source": [
    "print(\"I love ice cream\")"
   ]
  },
  {
   "cell_type": "code",
   "execution_count": null,
   "metadata": {},
   "outputs": [],
   "source": [
    "# Store input numbers\n",
    "num1 = input('Enter first number: ')\n",
    "num2 = input('Enter second number: ')\n",
    "# Add two numbers\n",
    "sum = float(num1) + float(num2)\n",
    "# Display the sum\n",
    "print('The sum of {0} and {1} is {2}'.format(num1, num2, sum))"
   ]
  },
  {
   "cell_type": "code",
   "execution_count": null,
   "metadata": {},
   "outputs": [],
   "source": [
    "Another"
   ]
  },
  {
   "cell_type": "code",
   "execution_count": 1,
   "metadata": {},
   "outputs": [
    {
     "name": "stdout",
     "output_type": "stream",
     "text": [
      " Volume in drive D is New Volume\n",
      " Volume Serial Number is 8E84-6EB7\n",
      "\n",
      " Directory of d:\\Jupyter__\\jupyter\n",
      "\n",
      "11/04/2019  03:55 PM    <DIR>          .\n",
      "11/04/2019  03:55 PM    <DIR>          ..\n",
      "11/04/2019  03:55 PM    <DIR>          .ipynb_checkpoints\n",
      "11/04/2019  03:55 PM               603 Amit.ipynb\n",
      "11/04/2019  03:55 PM                63 Amit.py\n",
      "11/04/2019  03:55 PM             1,675 Prinitng.ipynb\n",
      "11/04/2019  03:55 PM                13 README.md\n",
      "               4 File(s)          2,354 bytes\n",
      "               3 Dir(s)  1,945,101,160,448 bytes free\n"
     ]
    }
   ],
   "source": [
    "!dir"
   ]
  },
  {
   "cell_type": "code",
   "execution_count": null,
   "metadata": {},
   "outputs": [],
   "source": []
  },
  {
   "cell_type": "code",
   "execution_count": null,
   "metadata": {},
   "outputs": [],
   "source": []
  }
 ],
 "metadata": {
  "kernelspec": {
   "display_name": "Python 3",
   "language": "python",
   "name": "python3"
  },
  "language_info": {
   "codemirror_mode": {
    "name": "ipython",
    "version": 3
   },
   "file_extension": ".py",
   "mimetype": "text/x-python",
   "name": "python",
   "nbconvert_exporter": "python",
   "pygments_lexer": "ipython3",
   "version": "3.7.3"
  }
 },
 "nbformat": 4,
 "nbformat_minor": 4
}
